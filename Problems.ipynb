{
 "cells": [
  {
   "cell_type": "raw",
   "id": "de850b7e-98d5-414b-b4d7-a0574a2388cd",
   "metadata": {},
   "source": [
    "1. write a code to reverse a string"
   ]
  },
  {
   "cell_type": "code",
   "execution_count": 11,
   "id": "fc4af941-0f51-4be9-84ec-bbf1cf9be7c2",
   "metadata": {},
   "outputs": [
    {
     "name": "stdin",
     "output_type": "stream",
     "text": [
      "enter name: rajasekhar\n"
     ]
    },
    {
     "name": "stdout",
     "output_type": "stream",
     "text": [
      "rahkesajar\n"
     ]
    }
   ],
   "source": [
    "def reverse_string(str):\n",
    "    return str[::-1]\n",
    "str = input(\"enter name:\")\n",
    "reversed_string = reverse_string(str)\n",
    "print(reversed_string)"
   ]
  },
  {
   "cell_type": "raw",
   "id": "7a129f94-9eb8-4961-974e-5da68cda56d1",
   "metadata": {},
   "source": [
    "2. write a code to count the number of vowels in a string"
   ]
  },
  {
   "cell_type": "code",
   "execution_count": 15,
   "id": "a47a696a-dbc0-4d44-a54a-584d8bf09994",
   "metadata": {},
   "outputs": [
    {
     "name": "stdin",
     "output_type": "stream",
     "text": [
      "enter your name: rajasekhar reddy\n"
     ]
    },
    {
     "name": "stdout",
     "output_type": "stream",
     "text": [
      "5\n"
     ]
    }
   ],
   "source": [
    "def count_string(str):\n",
    "    vowels=\"aeiou\"\n",
    "    count=0\n",
    "    for char in str:\n",
    "        if char in vowels:\n",
    "            count += 1\n",
    "    return count\n",
    "\n",
    "str = input(\"enter your name:\")\n",
    "count_string = count_string(str)\n",
    "print(count_string)"
   ]
  },
  {
   "cell_type": "raw",
   "id": "63d38b33-ff05-43a0-b519-f5436d5833a8",
   "metadata": {},
   "source": [
    "## 3. write a code to check if given string is palindrome or not"
   ]
  },
  {
   "cell_type": "code",
   "execution_count": 19,
   "id": "c3267ec0-7185-452b-adaf-c889ccc44507",
   "metadata": {},
   "outputs": [
    {
     "name": "stdin",
     "output_type": "stream",
     "text": [
      "checking palindrome: laal\n"
     ]
    },
    {
     "name": "stdout",
     "output_type": "stream",
     "text": [
      "True\n"
     ]
    }
   ],
   "source": [
    "def palindrome_check(str):\n",
    "    return str == str[::-1]\n",
    "        \n",
    "str = input(\"checking palindrome:\")\n",
    "palindrome = palindrome_check(str)\n",
    "print(palindrome_check(str))"
   ]
  },
  {
   "cell_type": "code",
   "execution_count": 2,
   "id": "55354920-b003-4ffa-8452-fa3c42fc682b",
   "metadata": {},
   "outputs": [],
   "source": [
    "## 4.Write a code to check if two given strings are anagrams of each other"
   ]
  },
  {
   "cell_type": "code",
   "execution_count": 8,
   "id": "0372e6cc-3761-4efa-8374-9666599cd9ec",
   "metadata": {},
   "outputs": [
    {
     "name": "stdin",
     "output_type": "stream",
     "text": [
      "enter string 1: rajaa\n",
      "enter string 2: rajas\n"
     ]
    },
    {
     "name": "stdout",
     "output_type": "stream",
     "text": [
      "this are not anagrams\n"
     ]
    }
   ],
   "source": [
    "def anagrams_check(str1,str2):\n",
    "    str1 = str1.replace(\" \",\"\").lower()\n",
    "    str2 = str2.replace(\" \",\"\").lower()\n",
    "\n",
    "    if len(str1) != len(str2):\n",
    "        return False\n",
    "    elif(sorted(str1) == sorted(str2)):\n",
    "        return True\n",
    "\n",
    "    return False\n",
    "\n",
    "str1 = input(\"enter string 1:\")\n",
    "str2 = input(\"enter string 2:\")\n",
    "if anagrams_check(str1,str2):\n",
    "    print(\"this are anagrams\")\n",
    "else:\n",
    "    print(\"this are not anagrams\")"
   ]
  },
  {
   "cell_type": "code",
   "execution_count": null,
   "id": "e63036ca-5092-4437-a898-046931801472",
   "metadata": {},
   "outputs": [],
   "source": [
    "# 5. Write a code to find all occurrences of a given substring within another string."
   ]
  },
  {
   "cell_type": "code",
   "execution_count": 15,
   "id": "9a3585d7-c561-4d59-bdd7-9dc7d5cc9f04",
   "metadata": {},
   "outputs": [
    {
     "name": "stdout",
     "output_type": "stream",
     "text": [
      "[0, 18]\n"
     ]
    }
   ],
   "source": [
    "def occurences_string(string,sub_string):\n",
    "    lst = []\n",
    "    start_index = 0\n",
    "    while True:\n",
    "        index = string.find(sub_string,start_index)\n",
    "        if index == -1:\n",
    "            break\n",
    "        lst.append(index)\n",
    "        start_index = index+1\n",
    "    return lst\n",
    "\n",
    "string = \"hello how are you hello\"\n",
    "sub_string = \"hello\"\n",
    "\n",
    "print(occurences_string(string,sub_string))"
   ]
  },
  {
   "cell_type": "code",
   "execution_count": null,
   "id": "218f2227-108c-42f4-ab29-f68486602ea5",
   "metadata": {},
   "outputs": [],
   "source": [
    "# 6.Write a code to perform basic string compression using the counts of repeated characters"
   ]
  },
  {
   "cell_type": "code",
   "execution_count": null,
   "id": "f27780c3-ac56-4040-a268-e516034d1c4d",
   "metadata": {},
   "outputs": [],
   "source": []
  },
  {
   "cell_type": "code",
   "execution_count": 9,
   "id": "621d4f41-0b31-4087-bddc-2e2ed5df6c53",
   "metadata": {},
   "outputs": [],
   "source": [
    "# 7.Write a code to determine if a string has all unique characters."
   ]
  },
  {
   "cell_type": "code",
   "execution_count": 11,
   "id": "9ecf1592-bc59-40df-8960-90cc5c70c2a2",
   "metadata": {},
   "outputs": [
    {
     "name": "stdin",
     "output_type": "stream",
     "text": [
      "enter string skil\n"
     ]
    },
    {
     "name": "stdout",
     "output_type": "stream",
     "text": [
      "it is a unique character string\n"
     ]
    }
   ],
   "source": [
    "def unique_char(str):\n",
    "    set_values = set()\n",
    "\n",
    "    for char in str:\n",
    "        if char in set_values:\n",
    "            return False\n",
    "        else:\n",
    "            set_values.add(char)\n",
    "    return True\n",
    "\n",
    "str = input(\"enter string\")\n",
    "if unique_char(str):\n",
    "    print(\"it is a unique character string\")\n",
    "else:\n",
    "    print(\"it doesnot have uniqie character string\")\n",
    "        \n",
    "            "
   ]
  },
  {
   "cell_type": "code",
   "execution_count": 12,
   "id": "3574c7e4-34b1-4342-9ecb-d74ddad544ac",
   "metadata": {},
   "outputs": [],
   "source": [
    "# 8.Write a code to convert a given string to uppercase or lowercase"
   ]
  },
  {
   "cell_type": "code",
   "execution_count": 14,
   "id": "76890d77-6191-4f93-b8d0-fab6bab17575",
   "metadata": {},
   "outputs": [
    {
     "name": "stdin",
     "output_type": "stream",
     "text": [
      "enter string: raja\n"
     ]
    },
    {
     "name": "stdout",
     "output_type": "stream",
     "text": [
      "RAJA\n"
     ]
    }
   ],
   "source": [
    "def convert_str(str):\n",
    "    str = str.upper()\n",
    "    return str\n",
    "\n",
    "str = input(\"enter string:\")\n",
    "print(convert_str(str))\n",
    "    "
   ]
  },
  {
   "cell_type": "code",
   "execution_count": null,
   "id": "c8f1b01d-8f2e-4256-a61e-3765fd638293",
   "metadata": {},
   "outputs": [],
   "source": [
    "# 9.Write a code to count the number of words in a string."
   ]
  },
  {
   "cell_type": "code",
   "execution_count": 18,
   "id": "0e1369bb-7849-48cd-b52b-ff516964e567",
   "metadata": {},
   "outputs": [
    {
     "name": "stdin",
     "output_type": "stream",
     "text": [
      "enter a string rajselkhar reddy kamireddy\n"
     ]
    },
    {
     "name": "stdout",
     "output_type": "stream",
     "text": [
      "3\n"
     ]
    }
   ],
   "source": [
    "def count_words(str):\n",
    "    space = \" \"\n",
    "    count=0\n",
    "    for i in range(len(str)):\n",
    "        if space == str[i]:\n",
    "            count += 1\n",
    "    return count+1\n",
    "\n",
    "str = input(\"enter a string\")\n",
    "print(count_words(str))\n",
    "            \n",
    "            "
   ]
  },
  {
   "cell_type": "code",
   "execution_count": null,
   "id": "0130b6b0-8d22-4974-918f-1b7adaaef6ad",
   "metadata": {},
   "outputs": [],
   "source": [
    "# 10.Write a code to concatenate two strings without using the + operator"
   ]
  },
  {
   "cell_type": "code",
   "execution_count": 23,
   "id": "0f8e50d0-437e-4aab-a678-db283d906216",
   "metadata": {},
   "outputs": [
    {
     "name": "stdout",
     "output_type": "stream",
     "text": [
      "rajasekhar reddy\n"
     ]
    }
   ],
   "source": [
    "def concatinate(str1,str2):\n",
    "    return \"\".join([str1,str2])\n",
    "\n",
    "str1 = \"rajasekhar\"\n",
    "str2 = \" reddy\"\n",
    "print(concatinate(str1,str2))"
   ]
  },
  {
   "cell_type": "code",
   "execution_count": null,
   "id": "3eb0364b-3d15-487b-b79d-07a93aad717e",
   "metadata": {},
   "outputs": [],
   "source": [
    "# 11.Write a code to remove all occurrences of a specific element from a list"
   ]
  },
  {
   "cell_type": "code",
   "execution_count": 32,
   "id": "0930cb2d-4bad-4a16-a12e-87e89c1b8cf4",
   "metadata": {},
   "outputs": [
    {
     "name": "stdin",
     "output_type": "stream",
     "text": [
      "enter removing element: 2\n",
      "length of a string: 1,2,3,45\n"
     ]
    },
    {
     "name": "stdout",
     "output_type": "stream",
     "text": [
      "[1, 3, 45]\n"
     ]
    }
   ],
   "source": [
    "def remove_specific_element(lst,ele):\n",
    "    return list(filter(lambda x:x!=ele,lst))\n",
    "\n",
    "ele = int(input(\"enter removing element:\"))\n",
    " \n",
    "lst = input(\"length of a string:\").split(',')\n",
    "lst = [int(x) for x in lst]\n",
    "\n",
    "new_lst = remove_specific_element(lst,ele)\n",
    "\n",
    "print(new_lst)\n",
    "    "
   ]
  },
  {
   "cell_type": "code",
   "execution_count": null,
   "id": "d7e17a66-66f4-4367-88bc-0183923adf3e",
   "metadata": {},
   "outputs": [],
   "source": [
    "# 12.Implement a code to find the second largest number in a given list of integers"
   ]
  },
  {
   "cell_type": "code",
   "execution_count": 43,
   "id": "f336fbc7-514c-4d87-97ed-21869db47951",
   "metadata": {},
   "outputs": [
    {
     "name": "stdout",
     "output_type": "stream",
     "text": [
      "15\n"
     ]
    }
   ],
   "source": [
    "def sec_largest(lst):\n",
    "    lar = -1\n",
    "    sec_lar = -1\n",
    "    for i in lst:\n",
    "        if i>lar:\n",
    "           sec_lar = lar\n",
    "           lar = i\n",
    "        elif i>sec_lar and i!=lar:\n",
    "            sec_lar = i\n",
    "            \n",
    "    return sec_lar\n",
    "\n",
    "lst = [1,10,9,23,15]\n",
    "print(sec_largest(lst))"
   ]
  },
  {
   "cell_type": "code",
   "execution_count": null,
   "id": "bde90607-275f-4fef-8e09-a04ed30f4826",
   "metadata": {},
   "outputs": [],
   "source": [
    "# 13.Create a code to count the occurrences of each element in a list and return a dictionary with elements as keys and their counts as values"
   ]
  },
  {
   "cell_type": "code",
   "execution_count": 45,
   "id": "2999810c-9ba1-4825-aa6e-16d3c7c210c7",
   "metadata": {},
   "outputs": [
    {
     "name": "stdout",
     "output_type": "stream",
     "text": [
      "{12: 1, 2: 1, 1: 2, 4: 2, 3: 1, 6: 1}\n"
     ]
    }
   ],
   "source": [
    "def elements_dic(lst):\n",
    "    count= {}\n",
    "    for i in lst:\n",
    "        if i in count:\n",
    "            count[i] += 1\n",
    "        else:\n",
    "            count[i] = 1\n",
    "    return count\n",
    "\n",
    "lst = [12,2,1,1,4,3,4,6]\n",
    "counting = elements_dic(lst)\n",
    "print(counting)"
   ]
  },
  {
   "cell_type": "code",
   "execution_count": null,
   "id": "00cef346-1d25-49d5-afe1-bc10083d33fb",
   "metadata": {},
   "outputs": [],
   "source": [
    "# 14.Write a code to reverse a list in-place without using any built-in reverse functions"
   ]
  },
  {
   "cell_type": "code",
   "execution_count": 50,
   "id": "1b7fd252-d3d2-447f-b2e0-9d3deaaa521e",
   "metadata": {},
   "outputs": [
    {
     "name": "stdout",
     "output_type": "stream",
     "text": [
      "[4, 3, 2, 1]\n"
     ]
    }
   ],
   "source": [
    "def reverse_lst(lst):\n",
    "    left = 0\n",
    "    right = len(lst)-1\n",
    "\n",
    "    while left<right:\n",
    "        temp = lst[left]\n",
    "        lst[left] = lst[right]\n",
    "        lst[right] = temp\n",
    "        left +=1\n",
    "        right -= 1\n",
    "    \n",
    "\n",
    "lst = [1,2,3,4]\n",
    "reverse_lst(lst)\n",
    "print(lst)"
   ]
  },
  {
   "cell_type": "code",
   "execution_count": null,
   "id": "ec146c99-2974-4ec2-834c-aec40696620d",
   "metadata": {},
   "outputs": [],
   "source": [
    "# 15.Implement a code to find and remove duplicates from a list while preserving the original order of elements"
   ]
  },
  {
   "cell_type": "code",
   "execution_count": 59,
   "id": "c2edbc33-f36d-4dbe-b7a3-95f9994145d9",
   "metadata": {},
   "outputs": [
    {
     "name": "stdout",
     "output_type": "stream",
     "text": [
      "[1, 2, 3, 4, 5, 34]\n"
     ]
    }
   ],
   "source": [
    "def removing_duplicates(lst):\n",
    "    unique_lst=[]\n",
    "    count = set()\n",
    "\n",
    "    for i in lst:\n",
    "        if i not in count:\n",
    "            unique_lst.append(i)\n",
    "            count.add(i)\n",
    "    return unique_lst\n",
    "            \n",
    "\n",
    "\n",
    "lst = [1,2,3,4,5,1,2,34,4]\n",
    "\n",
    "output_res = removing_duplicates(lst)\n",
    "\n",
    "\n",
    "print(output_res)\n",
    "            \n",
    "        "
   ]
  },
  {
   "cell_type": "code",
   "execution_count": null,
   "id": "a1584560-a58f-47a3-bbb4-060c5ff0698f",
   "metadata": {},
   "outputs": [],
   "source": [
    "# 16.Create a code to check if a given list is sorted (either in ascending or descending order) or not"
   ]
  },
  {
   "cell_type": "code",
   "execution_count": 2,
   "id": "9381266b-7a9f-4e36-b7ad-7d2469c66ed8",
   "metadata": {},
   "outputs": [
    {
     "name": "stdout",
     "output_type": "stream",
     "text": [
      "not sorted\n",
      "sorted list\n"
     ]
    }
   ],
   "source": [
    "def sorting_check(lst):\n",
    "    sort = True\n",
    "\n",
    "    for i in range(len(lst)-1):\n",
    "        if lst[i]>lst[i+1]:\n",
    "            sort = False\n",
    "\n",
    "    if sort:\n",
    "        print(\"sorted list\")\n",
    "    else:\n",
    "        print(\"not sorted\")\n",
    "\n",
    "lst1 = [1,8,3,5,6,9]\n",
    "ls2 = [1,2,3,4,5,6]\n",
    "sorting_check(lst1)\n",
    "sorting_check(ls2)\n",
    "            \n",
    "        "
   ]
  },
  {
   "cell_type": "code",
   "execution_count": null,
   "id": "b5c444f0-ae21-4240-bb98-0f7b42c732c9",
   "metadata": {},
   "outputs": [],
   "source": [
    "# 17.Write a code to merge two sorted lists into a single sorted list"
   ]
  },
  {
   "cell_type": "code",
   "execution_count": 6,
   "id": "c4ae9477-007c-4630-a05a-20971af6e6bb",
   "metadata": {},
   "outputs": [
    {
     "name": "stdout",
     "output_type": "stream",
     "text": [
      "[1, 2, 3, 4, 7, 8, 9, 10]\n"
     ]
    }
   ],
   "source": [
    "def merging_list(lst1,lst2):\n",
    "    merged = []\n",
    "    i=0\n",
    "    j=0\n",
    "\n",
    "    while i<len(lst1) and j<len(lst2):\n",
    "        if lst1[i]<=lst2[j]:\n",
    "            merged.append(lst1[i])\n",
    "            i +=1\n",
    "        elif lst1[i]>lst2[j]:\n",
    "            merged.append(lst2[j])\n",
    "            j +=1\n",
    "\n",
    "    while i<len(lst1):\n",
    "        merged.append(lst1[i])\n",
    "        i +=1\n",
    "\n",
    "    while j<len(lst2):\n",
    "        merged.append(lst2[j])\n",
    "        j +=1\n",
    "    return merged\n",
    "\n",
    "lst1 = [1,2,3,4]\n",
    "lst2 = [7,8,9,10]\n",
    "\n",
    "merging_operation = merging_list(lst1,lst2)\n",
    "print(merging_operation)\n",
    "\n",
    "        "
   ]
  },
  {
   "cell_type": "code",
   "execution_count": null,
   "id": "e418fda8-7909-44e0-8796-cb61210e74f3",
   "metadata": {},
   "outputs": [],
   "source": [
    "# 18.Implement a code to find the intersection of two given lists"
   ]
  },
  {
   "cell_type": "code",
   "execution_count": 14,
   "id": "66a1aeca-bcff-4f43-a766-f415f8730bd5",
   "metadata": {},
   "outputs": [
    {
     "name": "stdout",
     "output_type": "stream",
     "text": [
      "[3, 4, 5]\n"
     ]
    }
   ],
   "source": [
    "def intersec_lists(lst1, lst2):\n",
    "    intersection_lst = []\n",
    "\n",
    "    for i in lst1:\n",
    "        if i in lst2 and i not in intersection_lst:\n",
    "            intersection_lst.append(i)\n",
    "    return intersection_lst\n",
    "\n",
    "lst1 = [1,2,3,4,5]\n",
    "lst2 = [3,4,5,7,8]\n",
    "intersection_lst = intersec_lists(lst1, lst2)\n",
    "print(intersection_lst)"
   ]
  },
  {
   "cell_type": "code",
   "execution_count": null,
   "id": "f921ee0f-026e-42ac-9fd1-272001c588b7",
   "metadata": {},
   "outputs": [],
   "source": [
    "# 19.Create a code to find the union of two lists without duplicates"
   ]
  },
  {
   "cell_type": "code",
   "execution_count": 16,
   "id": "4925fceb-d19d-4896-b4bc-8ca5772d0d9c",
   "metadata": {},
   "outputs": [
    {
     "name": "stdout",
     "output_type": "stream",
     "text": [
      "[4, 5]\n"
     ]
    }
   ],
   "source": [
    "def union_lists(lst1,lst2):\n",
    "    concatinated_lst = lst1+lst2\n",
    "    union_lst = []\n",
    "\n",
    "    for i in lst1:\n",
    "        if i in lst2 and i not in union_lst:\n",
    "            union_lst.append(i)\n",
    "    return union_lst\n",
    "\n",
    "lst1 = [1,2,3,4,5]\n",
    "lst2 = [4,5,6,7,8]\n",
    "union_lst = union_lists(lst1,lst2)\n",
    "print(union_lst)\n",
    "\n"
   ]
  },
  {
   "cell_type": "code",
   "execution_count": null,
   "id": "31ff7157-7f30-44cd-acc8-d79416e69894",
   "metadata": {},
   "outputs": [],
   "source": [
    "# 20.Write a code to shuffle a given list randomly without using any built-in shuffle functions"
   ]
  },
  {
   "cell_type": "code",
   "execution_count": 8,
   "id": "94105e5a-0e2d-4e16-8005-e01aac7ad325",
   "metadata": {},
   "outputs": [
    {
     "name": "stdout",
     "output_type": "stream",
     "text": [
      "[3, 5, 4, 1, 2]\n"
     ]
    }
   ],
   "source": [
    "import random\n",
    "\n",
    "def shuffle_list(lst):\n",
    "    shuffled = lst[:]\n",
    "    n = len(shuffled)\n",
    "    for i in range(n-1,0,-1):\n",
    "        j = random.randint(0,i)\n",
    "        shuffled[i],shuffled[j] = shuffled[j],shuffled[i]\n",
    "    return shuffled\n",
    "\n",
    "lst = [1,2,3,4,5]\n",
    "shuffled = shuffle_list(lst)\n",
    "print(shuffled)"
   ]
  },
  {
   "cell_type": "code",
   "execution_count": 9,
   "id": "6cf87036-b978-443a-910c-30be4e11be4f",
   "metadata": {},
   "outputs": [],
   "source": [
    "# 21.Write a code that takes two tuples as input and returns a new tuple \n",
    "#    containing elements that are common to both input tuples."
   ]
  },
  {
   "cell_type": "code",
   "execution_count": 2,
   "id": "09b88055-9dbc-4cc5-be1c-077634430590",
   "metadata": {},
   "outputs": [
    {
     "name": "stdout",
     "output_type": "stream",
     "text": [
      "(4, 5, 'raja')\n"
     ]
    }
   ],
   "source": [
    "def common_elements(t1,t2):\n",
    "    set1 = set(t1)\n",
    "    set2 = set(t2)\n",
    "\n",
    "    common_ele = set1.intersection(set2)\n",
    "    common_tuple = tuple(common_ele)\n",
    "\n",
    "    return common_tuple\n",
    "\n",
    "t1 = (1,2,3,4,5,'raja')\n",
    "t2 = ('raja',4,5,8,9)\n",
    "\n",
    "common_tuples = common_elements(t1,t2)\n",
    "print(common_tuples)\n"
   ]
  },
  {
   "cell_type": "code",
   "execution_count": null,
   "id": "27b313c3-1ffd-48c3-9fbf-3d2d8eec3049",
   "metadata": {},
   "outputs": [],
   "source": [
    "# 22.Create a code that prompts the user to enter two sets of integers separated by commas. Then, print the intersection of these two sets."
   ]
  },
  {
   "cell_type": "code",
   "execution_count": 3,
   "id": "77a1efea-197e-4112-8064-3d99dd65ec62",
   "metadata": {},
   "outputs": [
    {
     "name": "stdout",
     "output_type": "stream",
     "text": [
      "{(10, 11), 'rajasekhar'}\n"
     ]
    }
   ],
   "source": [
    "def common_elements(set1,set2):\n",
    "    intersect_element = set1.intersection(set2)\n",
    "    return intersect_element\n",
    "\n",
    "set1 = {1,2,3,\"rajasekhar\",(10,11)}\n",
    "set2 = {8,7,9,\"rajasekhar\",(10,11)}\n",
    "\n",
    "common_set = common_elements(set1,set2)\n",
    "print(common_set)"
   ]
  },
  {
   "cell_type": "code",
   "execution_count": null,
   "id": "ce12d26f-14df-4214-9187-29f27d381bbe",
   "metadata": {},
   "outputs": [],
   "source": [
    "# 23.Write a code to concatenate two tuples. The function should take two tuples as input and return a \n",
    "#    new tuple containing elements from both input tuples."
   ]
  },
  {
   "cell_type": "code",
   "execution_count": 8,
   "id": "0df209b1-72d5-4e36-98b9-3ff508db440c",
   "metadata": {},
   "outputs": [
    {
     "name": "stdout",
     "output_type": "stream",
     "text": [
      "(1, 2, 3, 4, 5, 'a', 'b', 'raja')\n"
     ]
    }
   ],
   "source": [
    "def concatenate_tuples(t1,t2):\n",
    "    l1 = list(t1)\n",
    "    l2 = list(t2)\n",
    "    \n",
    "    adding = l1+l2\n",
    "    new_tuple = tuple(adding)\n",
    "    \n",
    "    return new_tuple\n",
    "\n",
    "t1 = (1,2,3,4,5)\n",
    "t2 = ('a','b','raja')\n",
    "\n",
    "new_tuple = concatenate_tuples(t1,t2)\n",
    "print(new_tuple)\n",
    "\n"
   ]
  },
  {
   "cell_type": "code",
   "execution_count": null,
   "id": "bb8b290b-0fc0-4967-aca2-d347d98391f8",
   "metadata": {},
   "outputs": [],
   "source": [
    "# 24.Develop a code that prompts the user to input two sets of strings. \n",
    "#    Then, print the elements that are present in the first set but not in the second set"
   ]
  },
  {
   "cell_type": "code",
   "execution_count": 16,
   "id": "f997001f-bc57-45c7-8495-1435a62a6d56",
   "metadata": {},
   "outputs": [
    {
     "name": "stdout",
     "output_type": "stream",
     "text": [
      "{'kamireddy', 'nani', 'raja'}\n"
     ]
    }
   ],
   "source": [
    "def first_set_elements(set1, set2):\n",
    "    new_set = set1 - set2  \n",
    "    return new_set\n",
    "\n",
    "s1 = {\"raja\", \"ressy\", \"kamireddy\", \"nani\"}\n",
    "s2 = {\"rajsaekhar\", \"ressy\", \"reddy\"}\n",
    "\n",
    "new_set = first_set_elements(s1, s2)\n",
    "print(new_set)"
   ]
  },
  {
   "cell_type": "code",
   "execution_count": null,
   "id": "a1f36ea9-32df-4722-a44f-ddfdb977f010",
   "metadata": {},
   "outputs": [],
   "source": [
    "# 25.Create a code that takes a tuple and two integers as input. The function should return a \n",
    "#     new tuple containing elements from the original tuple within the specified range of indices"
   ]
  },
  {
   "cell_type": "code",
   "execution_count": 28,
   "id": "35193a89-4515-4dc8-8780-a48f041a7004",
   "metadata": {},
   "outputs": [
    {
     "name": "stdin",
     "output_type": "stream",
     "text": [
      "Enter tuple elements separated by commas:  1,2,3,4,5,6,7,8,9\n",
      "Enter the starting index:  4\n",
      "Enter the ending index:  7\n"
     ]
    },
    {
     "name": "stdout",
     "output_type": "stream",
     "text": [
      "('5', '6', '7')\n"
     ]
    }
   ],
   "source": [
    "def range_elements():\n",
    "    input_str = input(\"Enter tuple elements separated by commas: \")\n",
    "    t1 = tuple(map(str.strip, input_str.split(\",\")))  \n",
    "\n",
    "    ind_1 = int(input(\"Enter the starting index: \"))\n",
    "    ind_2 = int(input(\"Enter the ending index: \"))\n",
    "    \n",
    "    new_tuple = ()\n",
    "    for i in range(ind_1,ind_2):\n",
    "        new_tuple += (t1[i],)\n",
    "       \n",
    "    print(new_tuple)\n",
    "\n",
    "range_elements()\n",
    "        "
   ]
  },
  {
   "cell_type": "code",
   "execution_count": null,
   "id": "939b95bc-6ef2-4848-8e74-68d31b970175",
   "metadata": {},
   "outputs": [],
   "source": [
    "# 26.Write a code that prompts the user to input two sets of characters. Then, print the union of these two sets"
   ]
  },
  {
   "cell_type": "code",
   "execution_count": 32,
   "id": "df017b57-9f10-42e3-b8cb-45a84617e724",
   "metadata": {},
   "outputs": [
    {
     "name": "stdin",
     "output_type": "stream",
     "text": [
      "enter set1 elements: a b c d e r\n",
      "enter set2 elements: a e d v b w\n"
     ]
    },
    {
     "name": "stdout",
     "output_type": "stream",
     "text": [
      "union of sets: {'b', 'a', 'r', 'd', 'w', 'e', 'v', 'c'}\n"
     ]
    }
   ],
   "source": [
    "def union_char():\n",
    "    set1 = input(\"enter set1 elements:\")\n",
    "    set2 = input(\"enter set2 elements:\")\n",
    "\n",
    "    s1 = set(set1.split())\n",
    "    s2 = set(set2.split())\n",
    "\n",
    "    union_set = s1|s2\n",
    "    print(\"union of sets:\",union_set)\n",
    "\n",
    "union_char()\n",
    "    "
   ]
  },
  {
   "cell_type": "code",
   "execution_count": null,
   "id": "1e9b93a7-ad34-487b-b1a1-4485a0a8ca53",
   "metadata": {},
   "outputs": [],
   "source": [
    "# 27.Develop a code that takes a tuple of integers as input. The function should return the maximum and \n",
    "#            minimum values from the tuple using tuple unpacking"
   ]
  },
  {
   "cell_type": "code",
   "execution_count": 36,
   "id": "1e893375-59f5-44bb-93e2-d5da4917e783",
   "metadata": {},
   "outputs": [
    {
     "name": "stdin",
     "output_type": "stream",
     "text": [
      "enter the elements separated by commas: 12,34,12,45,768,997,0\n"
     ]
    },
    {
     "name": "stdout",
     "output_type": "stream",
     "text": [
      "minimun value in tuple:  0\n",
      "maximum value in tuple:  997\n"
     ]
    }
   ],
   "source": [
    "def tuple_min_max_element():\n",
    "    input_val = input(\"enter the elements separated by commas:\")\n",
    "    t1 = tuple(map(int,input_val.split(\",\")))\n",
    "\n",
    "    min_value,max_value = min(t1),max(t1)\n",
    "\n",
    "    print(\"minimun value in tuple: \",min_value)\n",
    "    print(\"maximum value in tuple: \",max_value)\n",
    "    \n",
    "tuple_min_max_element()    \n",
    "    "
   ]
  },
  {
   "cell_type": "code",
   "execution_count": null,
   "id": "2c7cc717-fc7c-4247-ae57-ad5e482fa2e8",
   "metadata": {},
   "outputs": [],
   "source": [
    "# 28.Create a code that defines two sets of integers. Then, print the union, intersection, and difference of these  two sets"
   ]
  },
  {
   "cell_type": "code",
   "execution_count": 38,
   "id": "a1dff82f-9093-4d5b-a33e-857a243ff7d1",
   "metadata": {},
   "outputs": [
    {
     "name": "stdin",
     "output_type": "stream",
     "text": [
      "enter the elements separated by commas:  1,2,3,4,5\n",
      "enter the elements separated by commas:  4,5,6,7,8\n"
     ]
    },
    {
     "name": "stdout",
     "output_type": "stream",
     "text": [
      "union values are: {1, 2, 3, 4, 5, 6, 7, 8}\n",
      "intersection_values:  {4, 5}\n",
      "difference_values:  {1, 2, 3}\n"
     ]
    }
   ],
   "source": [
    "def union_intersection_difference():\n",
    "    input_value1 = input(\"enter the elements separated by commas: \")\n",
    "    input_value2 = input(\"enter the elements separated by commas: \")\n",
    "    s1 = set(map(int,input_value1.split(\",\")))\n",
    "    s2 = set(map(int,input_value2.split(\",\")))\n",
    "\n",
    "    union_value = s1 | s2\n",
    "    intesection_value = s1 & s2\n",
    "    difference_value = s1 - s2\n",
    "\n",
    "    print(\"union values are:\",union_value)\n",
    "    print(\"intersection_values: \",intesection_value)\n",
    "    print(\"difference_values: \",difference_value)\n",
    "    \n",
    "\n",
    "union_intersection_difference()\n",
    "\n",
    "    "
   ]
  },
  {
   "cell_type": "code",
   "execution_count": null,
   "id": "a974b2fc-f792-421c-bb6a-ea901dcc4192",
   "metadata": {},
   "outputs": [],
   "source": [
    "# 29.Write a code that takes a tuple and an element as input. The function should return the count of  occurrences of the given element in the tuple"
   ]
  },
  {
   "cell_type": "code",
   "execution_count": 41,
   "id": "b24dfa49-d8eb-463b-a671-6a434abb347f",
   "metadata": {},
   "outputs": [
    {
     "name": "stdin",
     "output_type": "stream",
     "text": [
      "enter the values separated by commas:  1,23,1,23,56,5\n",
      "enter the element:  1\n"
     ]
    },
    {
     "name": "stdout",
     "output_type": "stream",
     "text": [
      "occurrences of an element:  2\n"
     ]
    }
   ],
   "source": [
    "def occurrence_element():\n",
    "    input_value = input(\"enter the values separated by commas: \")\n",
    "    element = input(\"enter the element: \")\n",
    "\n",
    "    t1 = tuple(map(str.strip,input_value.split(\",\")))\n",
    "    count =0\n",
    "    for i in t1:\n",
    "        if i == element:\n",
    "                   count += 1\n",
    "\n",
    "    print(\"occurrences of an element: \",count)\n",
    "\n",
    "occurrence_element()\n",
    "                   \n",
    "                \n",
    "    "
   ]
  },
  {
   "cell_type": "code",
   "execution_count": null,
   "id": "74d9aa60-53db-43d2-9411-03a8f1318b83",
   "metadata": {},
   "outputs": [],
   "source": [
    "# 30.Develop a code that prompts the user to input two sets of strings. Then, print the symmetric difference of  these two sets"
   ]
  },
  {
   "cell_type": "code",
   "execution_count": 46,
   "id": "301b510c-7642-44ee-a7e9-d2b643427ab2",
   "metadata": {},
   "outputs": [
    {
     "name": "stdin",
     "output_type": "stream",
     "text": [
      "enter set1 values as comma saparated:  1,2,34\n",
      "enter set2 values as comma saparated:  34,5,6\n"
     ]
    },
    {
     "name": "stdout",
     "output_type": "stream",
     "text": [
      "symmetric differences of two sets :  {'5', '1', '2', '6'}\n"
     ]
    }
   ],
   "source": [
    "def symmetric_difference():\n",
    "    input_value1 = input(\"enter set1 values as comma saparated: \")\n",
    "    input_value2 = input(\"enter set2 values as comma saparated: \")\n",
    "\n",
    "    set1 = set(input_value1.split(\",\"))\n",
    "    set2 = set(input_value2.split(\",\"))\n",
    "\n",
    "    \n",
    "    symmetric_set = set1^set2\n",
    "    print(\"symmetric differences of two sets : \",symmetric_set)\n",
    "\n",
    "symmetric_difference()\n",
    "    "
   ]
  },
  {
   "cell_type": "code",
   "execution_count": null,
   "id": "05b314cc-5b1b-4048-a178-ceae829e20d9",
   "metadata": {},
   "outputs": [],
   "source": [
    "# 31.Write a code that takes a list of words as input and returns a dictionary where the keys are unique words  \n",
    "#   and the values are the frequencies of those words in the input list"
   ]
  },
  {
   "cell_type": "code",
   "execution_count": 49,
   "id": "8aedb050-1448-4cc9-ba89-8a0eef0188a3",
   "metadata": {},
   "outputs": [
    {
     "name": "stdin",
     "output_type": "stream",
     "text": [
      "enter the list separated by comma:  apple,bannana,kiwi,apple,kiwi,mango,graph,kiwi\n"
     ]
    },
    {
     "name": "stdout",
     "output_type": "stream",
     "text": [
      "words and there frequencies:  {'apple': 2, 'bannana': 1, 'kiwi': 3, 'mango': 1, 'graph': 1}\n"
     ]
    }
   ],
   "source": [
    "def dictionary_keys():\n",
    "    input_val = input(\"enter the list separated by comma: \")\n",
    "    lst = list(input_val.split(\",\"))\n",
    "    word_counts = {}\n",
    "    for i in lst:\n",
    "        if i in word_counts:\n",
    "            word_counts[i] += 1\n",
    "        else:\n",
    "            word_counts[i] = 1\n",
    "\n",
    "    print(\"words and there frequencies: \",word_counts)\n",
    "\n",
    "dictionary_keys()\n",
    "    "
   ]
  },
  {
   "cell_type": "code",
   "execution_count": null,
   "id": "69c7fd65-84a2-40bd-8e03-f1e5d839b98f",
   "metadata": {},
   "outputs": [],
   "source": [
    "# 32.Write a code that takes two dictionaries as input and merges them into a single dictionary. \n",
    "#    If there are  common keys, the values should be added together&"
   ]
  },
  {
   "cell_type": "code",
   "execution_count": 57,
   "id": "2bccaff3-7b79-485e-b65e-c0bd611c107d",
   "metadata": {},
   "outputs": [
    {
     "name": "stdout",
     "output_type": "stream",
     "text": [
      "{'a': 3, 'b': 6, 'd': 4, 'z': 12, 'c': 2}\n"
     ]
    }
   ],
   "source": [
    "def merge_dictionaries(dict1, dict2):\n",
    "  merged = dict1.copy()\n",
    "  for key, value in dict2.items():\n",
    "    if key in merged:\n",
    "      merged[key] += value\n",
    "    else:\n",
    "      merged[key] = value\n",
    "  return merged\n",
    "\n",
    "dict1 = {'a':2,'b':6,'d':4,'z':10}\n",
    "dict2 = {'a':1,'c':2,'z':2}\n",
    "print(merge_dictionaries(dict1,dict2))"
   ]
  },
  {
   "cell_type": "code",
   "execution_count": null,
   "id": "4f16bb7e-1a1d-4bc5-80dc-e3c9f27a2b2b",
   "metadata": {},
   "outputs": [],
   "source": [
    "# 33.Write a code to access a value in a nested dictionary. The function should take the dictionary and a list of \n",
    "#    keys as input, and return the corresponding value. If any of the keys do not exist in the dictionary, the \n",
    "#    function should return None"
   ]
  },
  {
   "cell_type": "code",
   "execution_count": 63,
   "id": "54b5e11e-1b3d-4867-8e56-ec0a5f8fd66b",
   "metadata": {},
   "outputs": [
    {
     "name": "stdout",
     "output_type": "stream",
     "text": [
      "10\n",
      "30\n",
      "40\n",
      "None\n"
     ]
    }
   ],
   "source": [
    "def access_nested_value(data, keys):\n",
    "  current = data\n",
    "  for key in keys:\n",
    "    if key not in current:\n",
    "      return None\n",
    "    current = current[key]\n",
    "  return current\n",
    "\n",
    "my_dict = {\"a\": {\"b\": {\"c\": 10, \"d\": 20}, \"e\": 30}, \"f\": 40}\n",
    "\n",
    "value1 = access_nested_value(my_dict, [\"a\", \"b\", \"c\"])  \n",
    "value2 = access_nested_value(my_dict, [\"a\", \"e\"])    \n",
    "value3 = access_nested_value(my_dict, [\"f\"])         \n",
    "value4 = access_nested_value(my_dict, [\"a\", \"x\", \"y\"]) \n",
    "print(value1)\n",
    "print(value2)\n",
    "print(value3)\n",
    "print(value4)"
   ]
  },
  {
   "cell_type": "code",
   "execution_count": null,
   "id": "fa803aba-9336-4b9a-9d26-4bd768d84b0e",
   "metadata": {},
   "outputs": [],
   "source": [
    "# 34. Write a code that takes a dictionary as input and returns a sorted version of it based on the values. You \n",
    "#     can choose whether to sort in ascending or descending order"
   ]
  },
  {
   "cell_type": "code",
   "execution_count": 67,
   "id": "3cdefc1d-dfe5-4ad6-993b-2f541c1e35f5",
   "metadata": {},
   "outputs": [
    {
     "name": "stdout",
     "output_type": "stream",
     "text": [
      "Ascending: [('b', 1), ('c', 2), ('a', 3)]\n",
      "Descending: [('a', 3), ('c', 2), ('b', 1)]\n"
     ]
    }
   ],
   "source": [
    "def sort_dictionary_by_value(dictionary, ascending=True):\n",
    "  sorted_items = sorted(dictionary.items(), key=lambda item: item[1], reverse=not ascending)\n",
    "  return sorted_items\n",
    "\n",
    "my_dict = {'a': 3, 'b': 1, 'c': 2}\n",
    "sorted_asc = sort_dictionary_by_value(my_dict)\n",
    "sorted_desc = sort_dictionary_by_value(my_dict, ascending=False)\n",
    "\n",
    "print(\"Ascending:\", sorted_asc)\n",
    "print(\"Descending:\", sorted_desc)"
   ]
  },
  {
   "cell_type": "code",
   "execution_count": null,
   "id": "9c83f41a-87f4-4c10-986c-e99cdd7e42a2",
   "metadata": {},
   "outputs": [],
   "source": [
    "# 35. Write a code that inverts a dictionary, swapping keys and values. Ensure that the inverted dictionary \n",
    "#   correctly handles cases where multiple keys have the same value by storing the keys as a list in the \n",
    "#   inverted dictionary."
   ]
  },
  {
   "cell_type": "code",
   "execution_count": 65,
   "id": "278f18c0-e6b7-4ecb-a8ee-44beba93f1f6",
   "metadata": {},
   "outputs": [
    {
     "name": "stdout",
     "output_type": "stream",
     "text": [
      "{2: 'a', 6: 'b', 9: 'c', 4: 'd', 10: 'z'}\n"
     ]
    }
   ],
   "source": [
    "def inverted_dict(dict1):\n",
    "    new_dict = {}\n",
    "    for key,value in dict1.items():\n",
    "        if value not in new_dict:\n",
    "            new_dict[value] = key\n",
    "        else:\n",
    "            new_dict[value].append(key)\n",
    "\n",
    "    return new_dict\n",
    "\n",
    "dict = {'a':2,'b':6,'c':9,'d':4,'z':10}\n",
    "inverted = inverted_dict(dict)\n",
    "print(inverted)"
   ]
  },
  {
   "cell_type": "code",
   "execution_count": null,
   "id": "01756c00-fa4a-48cf-9709-c081b1723da8",
   "metadata": {},
   "outputs": [],
   "source": []
  }
 ],
 "metadata": {
  "kernelspec": {
   "display_name": "Python 3 (ipykernel)",
   "language": "python",
   "name": "python3"
  },
  "language_info": {
   "codemirror_mode": {
    "name": "ipython",
    "version": 3
   },
   "file_extension": ".py",
   "mimetype": "text/x-python",
   "name": "python",
   "nbconvert_exporter": "python",
   "pygments_lexer": "ipython3",
   "version": "3.11.7"
  }
 },
 "nbformat": 4,
 "nbformat_minor": 5
}
